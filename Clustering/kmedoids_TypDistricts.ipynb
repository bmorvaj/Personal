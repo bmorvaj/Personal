{
 "cells": [
  {
   "cell_type": "code",
   "execution_count": null,
   "metadata": {
    "collapsed": true
   },
   "outputs": [],
   "source": [
    "from time import time\n",
    "import numpy as np\n",
    "import matplotlib.pyplot as plt\n",
    "import os\n",
    "import collections\n",
    "import matplotlib.pyplot as plt\n",
    "import matplotlib.pylab as py\n",
    "import seaborn as sns\n",
    "import pandas as pd\n",
    "import numpy as np\n",
    "import h5py\n",
    "from tables import *\n",
    "import gc\n",
    "import pysal as ps\n",
    "from scipy.stats import kendalltau\n",
    "\n",
    "from sklearn import metrics\n",
    "from sklearn.cluster import KMeans\n",
    "from sklearn.cluster import KMedoids\n",
    "from sklearn.datasets import load_digits\n",
    "from sklearn.decomposition import PCA\n",
    "from sklearn.preprocessing import scaleb"
   ]
  },
  {
   "cell_type": "code",
   "execution_count": null,
   "metadata": {
    "collapsed": true
   },
   "outputs": [],
   "source": [
    "### READ DATA ###\n",
    "zone=pd.read_hdf(r'C:\\DB\\LandUse.h5','GIS')\t\t\t\t\n",
    "building=pd.read_hdf(r'C:\\building.h5','GIS')\t\n",
    "\n",
    "building=building.replace(-999, 10)\n",
    "zone=zone.replace(-999, 10)\n",
    "\n",
    "building=building.replace(np.nan, 0)\n",
    "zone=zone.replace(np.nan, 0)\n",
    "\n",
    "district=np.array([zone['MEAN_GAPTO'],zone['COUNT_HEIG'],zone['MEAN_HEIGH']]).T\n",
    "\n",
    "np.random.seed(42)\n",
    "digits = load_digits()\n",
    "data = district\n",
    "\n",
    "n_samples, n_features = district.shape\n",
    "n_digits = 10\n",
    "labels = zone.CH_CODE_HN   # building ID \n",
    "\n",
    "sample_size = 360"
   ]
  },
  {
   "cell_type": "code",
   "execution_count": null,
   "metadata": {
    "collapsed": true
   },
   "outputs": [],
   "source": [
    "reduced_data = PCA(n_components=3).fit_transform(data)\n",
    "\n",
    "\n",
    "kmedoids = KMedoids(init='random', n_clusters=n_digits)\n",
    "kmedoids.fit(reduced_data)"
   ]
  }
 ],
 "metadata": {
  "kernelspec": {
   "display_name": "Python 3",
   "language": "python",
   "name": "python3"
  },
  "language_info": {
   "codemirror_mode": {
    "name": "ipython",
    "version": 3
   },
   "file_extension": ".py",
   "mimetype": "text/x-python",
   "name": "python",
   "nbconvert_exporter": "python",
   "pygments_lexer": "ipython3",
   "version": "3.4.4"
  }
 },
 "nbformat": 4,
 "nbformat_minor": 0
}
